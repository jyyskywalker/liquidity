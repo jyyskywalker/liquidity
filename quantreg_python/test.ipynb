{
 "metadata": {
  "language_info": {
   "codemirror_mode": {
    "name": "ipython",
    "version": 3
   },
   "file_extension": ".py",
   "mimetype": "text/x-python",
   "name": "python",
   "nbconvert_exporter": "python",
   "pygments_lexer": "ipython3",
   "version": "3.7.8-final"
  },
  "orig_nbformat": 2,
  "kernelspec": {
   "name": "python3",
   "display_name": "Python 3.7.8 64-bit",
   "metadata": {
    "interpreter": {
     "hash": "7e7df21fdf00a26e36d4e6310a308abb9513233b4a3ec64213ee6595ee7ec7bb"
    }
   }
  }
 },
 "nbformat": 4,
 "nbformat_minor": 2,
 "cells": [
  {
   "cell_type": "code",
   "execution_count": 1,
   "metadata": {},
   "outputs": [],
   "source": [
    "import numpy as np\n",
    "import pandas as pd\n",
    "\n",
    "import statsmodels.api as sm\n",
    "import statsmodels.formula.api as smf\n",
    "import matplotlib.pyplot as plt"
   ]
  },
  {
   "cell_type": "code",
   "execution_count": 5,
   "metadata": {},
   "outputs": [],
   "source": [
    "df = pd.read_csv('.\\indices_since95.csv')\n",
    "indices = df['000001.SH']\n",
    "indices = indices.values\n",
    "indices = indices[0:-1]"
   ]
  },
  {
   "cell_type": "code",
   "execution_count": 11,
   "metadata": {},
   "outputs": [],
   "source": [
    "y = np.log(indices[1:])-np.log(indices[0:-1])\n",
    "\n",
    "x_positive = np.abs(y[0:-1])*(y[0:-1]>0)\n",
    "x_negative = np.abs(y[0:-1])*(y[0:-1]<0)\n",
    "\n",
    "x = np.vstack((x_positive,x_negative))\n",
    "y0 = y[1:]\n",
    "\n",
    "tau = 0.1"
   ]
  },
  {
   "cell_type": "code",
   "execution_count": 14,
   "metadata": {},
   "outputs": [
    {
     "output_type": "execute_result",
     "data": {
      "text/plain": [
       "(3, 288)"
      ]
     },
     "metadata": {},
     "execution_count": 14
    }
   ],
   "source": [
    "x.shape"
   ]
  },
  {
   "cell_type": "code",
   "execution_count": 15,
   "metadata": {},
   "outputs": [],
   "source": [
    "x_one = np.ones(len(x[0,:]))\n",
    "x = np.vstack((x_one,x))\n",
    "p0 = np.linalg.lstsq(x.T, y0, rcond=None)[0]\n",
    "\n",
    "x_zeros = np.zeros(len(x[0,:]))\n",
    "x = np.vstack((x,x_zeros))\n",
    "p0 = np.hstack((p0,0))\n",
    "p0 = np.hstack((p0,0))"
   ]
  },
  {
   "cell_type": "code",
   "execution_count": 16,
   "metadata": {},
   "outputs": [],
   "source": [
    "def yhat_my_self(p,x):\n",
    "    y = np.zeros(len(x[0,:]))\n",
    "    x[-1,0] = p[-1]\n",
    "    # print(x.shape) print(p.shape)\n",
    "    y[0] = np.dot(x[:,0].T,p[0:-1])\n",
    "    # print(y[0]) print(len(x[0,:])-1)\n",
    "    for ii in range(len(x[0,:])-1):\n",
    "        x[-1,ii+1] = y[ii]\n",
    "        y[ii+1] = np.dot(x[:,ii].T, p[0:-1])\n",
    "    return y"
   ]
  },
  {
   "cell_type": "code",
   "execution_count": null,
   "metadata": {},
   "outputs": [],
   "source": []
  }
 ]
}