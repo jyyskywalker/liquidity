{
 "cells": [
  {
   "cell_type": "code",
   "execution_count": 1,
   "metadata": {},
   "outputs": [],
   "source": [
    "# %load CAViaR.py\n",
    "import numpy as np\n",
    "import pandas as pd\n",
    "from scipy.optimize import minimize\n",
    "from quantreg import quantreg\n",
    "from quantreg import yhat_my_self\n",
    "\n",
    "import matplotlib.pylab as plt\n",
    "import matplotlib.dates as mdate\n",
    "from matplotlib.pylab import rcParams\n",
    "plt.rcParams['axes.unicode_minus']=False\n",
    "rcParams['font.sans-serif'] = 'kaiti'"
   ]
  },
  {
   "cell_type": "code",
   "execution_count": null,
   "metadata": {},
   "outputs": [],
   "source": []
  }
 ],
 "metadata": {
  "kernelspec": {
   "display_name": "Python 3",
   "language": "python",
   "name": "python3"
  },
  "language_info": {
   "codemirror_mode": {
    "name": "ipython",
    "version": 3
   },
   "file_extension": ".py",
   "mimetype": "text/x-python",
   "name": "python",
   "nbconvert_exporter": "python",
   "pygments_lexer": "ipython3",
   "version": "3.7.8"
  }
 },
 "nbformat": 4,
 "nbformat_minor": 4
}
