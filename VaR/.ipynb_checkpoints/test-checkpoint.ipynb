{
 "cells": [
  {
   "cell_type": "code",
   "execution_count": 1,
   "metadata": {},
   "outputs": [],
   "source": [
    "import tushare as ts\n",
    "import numpy as np\n",
    "import pandas as pd\n",
    "token = '094f15d71394516b730602faa77b1c708007b8d05df300590b4445ed'\n",
    "ts.set_token(token)\n",
    "pro=ts.pro_api()"
   ]
  },
  {
   "cell_type": "code",
   "execution_count": 8,
   "metadata": {},
   "outputs": [],
   "source": [
    "df = pro.daily(ts_code='600519.SH', start_date='20190101', end_date='20191231') "
   ]
  },
  {
   "cell_type": "code",
   "execution_count": 10,
   "metadata": {},
   "outputs": [
    {
     "data": {
      "text/plain": [
       "<bound method NDFrame.head of        ts_code trade_date     open     high      low    close  pre_close  \\\n",
       "243  600519.SH   20190102   609.98   612.00   595.01   598.98     590.01   \n",
       "242  600519.SH   20190103   599.97   601.66   585.80   590.00     598.98   \n",
       "241  600519.SH   20190104   587.28   607.67   582.02   602.00     590.00   \n",
       "240  600519.SH   20190107   608.00   612.00   602.22   605.49     602.00   \n",
       "239  600519.SH   20190108   605.50   612.00   600.28   604.79     605.49   \n",
       "..         ...        ...      ...      ...      ...      ...        ...   \n",
       "4    600519.SH   20191225  1143.00  1143.00  1130.01  1133.70    1148.00   \n",
       "3    600519.SH   20191226  1132.00  1141.98  1119.99  1135.10    1133.70   \n",
       "2    600519.SH   20191227  1150.00  1172.00  1150.00  1163.00    1135.10   \n",
       "1    600519.SH   20191230  1170.20  1195.50  1170.20  1185.80    1163.00   \n",
       "0    600519.SH   20191231  1183.00  1188.00  1176.51  1183.00    1185.80   \n",
       "\n",
       "     change  pct_chg       vol       amount  \n",
       "243    8.97   1.5203  62286.49  3754387.984  \n",
       "242   -8.98  -1.4992  30977.35  1838179.174  \n",
       "241   12.00   2.0339  37683.47  2258501.484  \n",
       "240    3.49   0.5797  34750.13  2105981.461  \n",
       "239   -0.70  -0.1156  28838.13  1750413.219  \n",
       "..      ...      ...       ...          ...  \n",
       "4    -14.30  -1.2456  24305.97  2755735.164  \n",
       "3      1.40   0.1235  22877.27  2585996.501  \n",
       "2     27.90   2.4579  47066.28  5486452.901  \n",
       "1     22.80   1.9604  40760.66  4827682.057  \n",
       "0     -2.80  -0.2361  22588.81  2666705.100  \n",
       "\n",
       "[244 rows x 11 columns]>"
      ]
     },
     "execution_count": 10,
     "metadata": {},
     "output_type": "execute_result"
    }
   ],
   "source": [
    "df=df.iloc[::-1]\n",
    "df.head"
   ]
  },
  {
   "cell_type": "code",
   "execution_count": 1,
   "metadata": {},
   "outputs": [],
   "source": [
    "stock_list = ['000001.SZ','600000.SH','600015.SH','600016.SH','600036.SH','601166.SH',\n",
    "              '601288.SH','601328.SH','601398.SH','601818.SH',\n",
    "              '601939.SH','601988.SH','601998.SH']"
   ]
  },
  {
   "cell_type": "code",
   "execution_count": null,
   "metadata": {},
   "outputs": [],
   "source": []
  }
 ],
 "metadata": {
  "kernelspec": {
   "display_name": "Python 3",
   "language": "python",
   "name": "python3"
  },
  "language_info": {
   "codemirror_mode": {
    "name": "ipython",
    "version": 3
   },
   "file_extension": ".py",
   "mimetype": "text/x-python",
   "name": "python",
   "nbconvert_exporter": "python",
   "pygments_lexer": "ipython3",
   "version": "3.7.8"
  }
 },
 "nbformat": 4,
 "nbformat_minor": 2
}
