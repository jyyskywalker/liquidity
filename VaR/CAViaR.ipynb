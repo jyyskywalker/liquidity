{
 "cells": [
  {
   "cell_type": "code",
   "execution_count": 12,
   "metadata": {},
   "outputs": [],
   "source": [
    "import pandas as pd\n",
    "import numpy as np\n",
    "import tushare as ts"
   ]
  },
  {
   "cell_type": "code",
   "execution_count": 13,
   "metadata": {},
   "outputs": [],
   "source": [
    "token = '094f15d71394516b730602faa77b1c708007b8d05df300590b4445ed'\n",
    "ts.set_token(token)\n",
    "pro=ts.pro_api()"
   ]
  },
  {
   "cell_type": "code",
   "execution_count": 31,
   "metadata": {},
   "outputs": [
    {
     "data": {
      "text/html": [
       "<div>\n",
       "<style scoped>\n",
       "    .dataframe tbody tr th:only-of-type {\n",
       "        vertical-align: middle;\n",
       "    }\n",
       "\n",
       "    .dataframe tbody tr th {\n",
       "        vertical-align: top;\n",
       "    }\n",
       "\n",
       "    .dataframe thead th {\n",
       "        text-align: right;\n",
       "    }\n",
       "</style>\n",
       "<table border=\"1\" class=\"dataframe\">\n",
       "  <thead>\n",
       "    <tr style=\"text-align: right;\">\n",
       "      <th></th>\n",
       "      <th>ts_code</th>\n",
       "      <th>trade_date</th>\n",
       "      <th>open</th>\n",
       "      <th>high</th>\n",
       "      <th>low</th>\n",
       "      <th>close</th>\n",
       "      <th>pre_close</th>\n",
       "      <th>change</th>\n",
       "      <th>pct_chg</th>\n",
       "      <th>vol</th>\n",
       "      <th>amount</th>\n",
       "    </tr>\n",
       "  </thead>\n",
       "  <tbody>\n",
       "    <tr>\n",
       "      <th>486</th>\n",
       "      <td>000001.SZ</td>\n",
       "      <td>20180102</td>\n",
       "      <td>13.35</td>\n",
       "      <td>13.93</td>\n",
       "      <td>13.32</td>\n",
       "      <td>13.70</td>\n",
       "      <td>13.30</td>\n",
       "      <td>0.40</td>\n",
       "      <td>3.01</td>\n",
       "      <td>2081592.55</td>\n",
       "      <td>2856543.822</td>\n",
       "    </tr>\n",
       "    <tr>\n",
       "      <th>485</th>\n",
       "      <td>000001.SZ</td>\n",
       "      <td>20180103</td>\n",
       "      <td>13.73</td>\n",
       "      <td>13.86</td>\n",
       "      <td>13.20</td>\n",
       "      <td>13.33</td>\n",
       "      <td>13.70</td>\n",
       "      <td>-0.37</td>\n",
       "      <td>-2.70</td>\n",
       "      <td>2962498.38</td>\n",
       "      <td>4006220.766</td>\n",
       "    </tr>\n",
       "    <tr>\n",
       "      <th>484</th>\n",
       "      <td>000001.SZ</td>\n",
       "      <td>20180104</td>\n",
       "      <td>13.32</td>\n",
       "      <td>13.37</td>\n",
       "      <td>13.13</td>\n",
       "      <td>13.25</td>\n",
       "      <td>13.33</td>\n",
       "      <td>-0.08</td>\n",
       "      <td>-0.60</td>\n",
       "      <td>1854509.48</td>\n",
       "      <td>2454543.516</td>\n",
       "    </tr>\n",
       "    <tr>\n",
       "      <th>483</th>\n",
       "      <td>000001.SZ</td>\n",
       "      <td>20180105</td>\n",
       "      <td>13.21</td>\n",
       "      <td>13.35</td>\n",
       "      <td>13.15</td>\n",
       "      <td>13.30</td>\n",
       "      <td>13.25</td>\n",
       "      <td>0.05</td>\n",
       "      <td>0.38</td>\n",
       "      <td>1210312.72</td>\n",
       "      <td>1603289.517</td>\n",
       "    </tr>\n",
       "    <tr>\n",
       "      <th>482</th>\n",
       "      <td>000001.SZ</td>\n",
       "      <td>20180108</td>\n",
       "      <td>13.25</td>\n",
       "      <td>13.29</td>\n",
       "      <td>12.86</td>\n",
       "      <td>12.96</td>\n",
       "      <td>13.30</td>\n",
       "      <td>-0.34</td>\n",
       "      <td>-2.56</td>\n",
       "      <td>2158620.81</td>\n",
       "      <td>2806099.169</td>\n",
       "    </tr>\n",
       "  </tbody>\n",
       "</table>\n",
       "</div>"
      ],
      "text/plain": [
       "       ts_code trade_date   open   high    low  close  pre_close  change  \\\n",
       "486  000001.SZ   20180102  13.35  13.93  13.32  13.70      13.30    0.40   \n",
       "485  000001.SZ   20180103  13.73  13.86  13.20  13.33      13.70   -0.37   \n",
       "484  000001.SZ   20180104  13.32  13.37  13.13  13.25      13.33   -0.08   \n",
       "483  000001.SZ   20180105  13.21  13.35  13.15  13.30      13.25    0.05   \n",
       "482  000001.SZ   20180108  13.25  13.29  12.86  12.96      13.30   -0.34   \n",
       "\n",
       "     pct_chg         vol       amount  \n",
       "486     3.01  2081592.55  2856543.822  \n",
       "485    -2.70  2962498.38  4006220.766  \n",
       "484    -0.60  1854509.48  2454543.516  \n",
       "483     0.38  1210312.72  1603289.517  \n",
       "482    -2.56  2158620.81  2806099.169  "
      ]
     },
     "execution_count": 31,
     "metadata": {},
     "output_type": "execute_result"
    }
   ],
   "source": [
    "data = pro.daily(ts_code='000001.SZ',start_date='20180101',end_date='20191231')\n",
    "data = data.iloc[::-1]\n",
    "data.head()"
   ]
  },
  {
   "cell_type": "markdown",
   "metadata": {},
   "source": [
    "Asymmetric slope $f_t(\\beta) = \\beta_1 + \\beta_2f_{t-1}(\\beta)+\\beta_3(y_{t-1})^{+}+\\beta_4(y_{t-1})^{-}$"
   ]
  },
  {
   "cell_type": "code",
   "execution_count": 32,
   "metadata": {},
   "outputs": [],
   "source": [
    "# y 是对数收益率\n",
    "y = np.log(data['close'])-np.log(data['pre_close'])\n",
    "y = y.values\n",
    "x_positive = np.abs(y)*(y>0)\n",
    "x_negative = np.abs(y)*(y<0)"
   ]
  },
  {
   "cell_type": "code",
   "execution_count": 34,
   "metadata": {},
   "outputs": [],
   "source": [
    "y0 = y[1:]\n",
    "xpositive = x_positive[0:len(x_positive)-2]\n",
    "xnegative = x_negative[0:len(x_negative)-2]"
   ]
  },
  {
   "cell_type": "markdown",
   "metadata": {},
   "source": [
    "+ $xf=[1, x^{+}, x^{-}, 0]$ \n",
    "+ size(p) = 5\n",
    "+ yhat(xf,p) $\\rightarrow$ xf.*p"
   ]
  },
  {
   "cell_type": "code",
   "execution_count": null,
   "metadata": {},
   "outputs": [],
   "source": []
  }
 ],
 "metadata": {
  "kernelspec": {
   "display_name": "Python 3",
   "language": "python",
   "name": "python3"
  },
  "language_info": {
   "codemirror_mode": {
    "name": "ipython",
    "version": 3
   },
   "file_extension": ".py",
   "mimetype": "text/x-python",
   "name": "python",
   "nbconvert_exporter": "python",
   "pygments_lexer": "ipython3",
   "version": "3.7.8"
  }
 },
 "nbformat": 4,
 "nbformat_minor": 4
}
